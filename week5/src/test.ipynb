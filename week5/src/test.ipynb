{
 "cells": [
  {
   "cell_type": "code",
   "execution_count": 6,
   "metadata": {},
   "outputs": [
    {
     "name": "stdout",
     "output_type": "stream",
     "text": [
      "24\n",
      "16\n"
     ]
    }
   ],
   "source": [
    "CHORD = [2, 16, 24, 25, 26, 31]\n",
    "\n",
    "def find_successor(target):\n",
    "        for node_id in CHORD:\n",
    "            if node_id >= target:\n",
    "                return node_id\n",
    "        return CHORD[0]\n",
    "    \n",
    "def find_predecessor(target):\n",
    "    for i in range(len(CHORD)-1, -1, -1):\n",
    "        if CHORD[i] < target:\n",
    "            return CHORD[i]\n",
    "    return CHORD[-1]\n",
    "    "
   ]
  },
  {
   "cell_type": "code",
   "execution_count": 16,
   "metadata": {},
   "outputs": [
    {
     "ename": "KeyboardInterrupt",
     "evalue": "",
     "output_type": "error",
     "traceback": [
      "\u001b[0;31m---------------------------------------------------------------------------\u001b[0m",
      "\u001b[0;31mKeyboardInterrupt\u001b[0m                         Traceback (most recent call last)",
      "Cell \u001b[0;32mIn[16], line 19\u001b[0m\n\u001b[1;32m     16\u001b[0m             \u001b[38;5;28;01mreturn\u001b[39;00m key\n\u001b[1;32m     18\u001b[0m \u001b[38;5;66;03m# find a key that hashes to 32\u001b[39;00m\n\u001b[0;32m---> 19\u001b[0m key \u001b[38;5;241m=\u001b[39m find_key_for_target(\u001b[38;5;241m32\u001b[39m)\n\u001b[1;32m     20\u001b[0m \u001b[38;5;28mprint\u001b[39m(\u001b[38;5;124mf\u001b[39m\u001b[38;5;124m\"\u001b[39m\u001b[38;5;124mKey: \u001b[39m\u001b[38;5;132;01m{\u001b[39;00mkey\u001b[38;5;132;01m}\u001b[39;00m\u001b[38;5;124m\"\u001b[39m)\n",
      "Cell \u001b[0;32mIn[16], line 14\u001b[0m, in \u001b[0;36mfind_key_for_target\u001b[0;34m(target_id)\u001b[0m\n\u001b[1;32m     12\u001b[0m \u001b[38;5;28;01mdef\u001b[39;00m \u001b[38;5;21mfind_key_for_target\u001b[39m(target_id):\n\u001b[1;32m     13\u001b[0m     \u001b[38;5;28;01mwhile\u001b[39;00m \u001b[38;5;28;01mTrue\u001b[39;00m:\n\u001b[0;32m---> 14\u001b[0m         key \u001b[38;5;241m=\u001b[39m \u001b[38;5;124m'\u001b[39m\u001b[38;5;124m'\u001b[39m\u001b[38;5;241m.\u001b[39mjoin(random\u001b[38;5;241m.\u001b[39mchoices(string\u001b[38;5;241m.\u001b[39mascii_letters \u001b[38;5;241m+\u001b[39m string\u001b[38;5;241m.\u001b[39mdigits, k\u001b[38;5;241m=\u001b[39m\u001b[38;5;241m5\u001b[39m))\n\u001b[1;32m     15\u001b[0m         \u001b[38;5;28;01mif\u001b[39;00m get_target_id(key) \u001b[38;5;241m==\u001b[39m target_id:\n\u001b[1;32m     16\u001b[0m             \u001b[38;5;28;01mreturn\u001b[39;00m key\n",
      "\u001b[0;31mKeyboardInterrupt\u001b[0m: "
     ]
    }
   ],
   "source": [
    "import string\n",
    "import random\n",
    "import zlib\n",
    "\n",
    "M = 5\n",
    "\n",
    "def get_target_id(key):\n",
    "    hash_value = zlib.adler32(key.encode())\n",
    "    target_id = hash_value % (2**M)\n",
    "    return target_id\n",
    "\n",
    "def find_key_for_target(target_id):\n",
    "    while True:\n",
    "        key = ''.join(random.choices(string.ascii_letters + string.digits, k=5))\n",
    "        if get_target_id(key) == target_id:\n",
    "            return key\n",
    "\n",
    "# find a key that hashes to 32\n",
    "key = find_key_for_target(32)\n",
    "print(f\"Key: {key}\")"
   ]
  }
 ],
 "metadata": {
  "kernelspec": {
   "display_name": "base",
   "language": "python",
   "name": "python3"
  },
  "language_info": {
   "codemirror_mode": {
    "name": "ipython",
    "version": 3
   },
   "file_extension": ".py",
   "mimetype": "text/x-python",
   "name": "python",
   "nbconvert_exporter": "python",
   "pygments_lexer": "ipython3",
   "version": "3.11.5"
  }
 },
 "nbformat": 4,
 "nbformat_minor": 2
}
